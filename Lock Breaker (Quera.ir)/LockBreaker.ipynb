{
 "cells": [
  {
   "cell_type": "code",
   "execution_count": 1,
   "id": "55884376",
   "metadata": {},
   "outputs": [],
   "source": [
    "import collections\n",
    "\n",
    "# Define a function to cycle characters in a string\n",
    "def cycle(s, n):\n",
    "    d = collections.deque(s)\n",
    "    d.rotate(n)\n",
    "    return \"\".join(d)\n",
    "\n",
    "# Define a function for big integer addition\n",
    "def big_add(num1, num2):\n",
    "    answer = \"\"\n",
    "    carry = 0 \n",
    "    \n",
    "    while (num1 != \"\") or (num2 != \"\") or (carry != 0):\n",
    "        if (num1 != \"\") and (num2 != \"\"):\n",
    "            temp = int(num1[-1]) + int(num2[-1]) + carry\n",
    "        if (num1 == \"\") and (num2 == \"\"):\n",
    "            temp = carry\n",
    "        if (num1 == \"\") and (num2 != \"\"):\n",
    "            if carry == 0:\n",
    "                answer = num2 + answer\n",
    "                break\n",
    "            temp = int(num2[-1]) + carry\n",
    "        if (num1 != \"\") and (num2 == \"\"):\n",
    "            if carry == 0:\n",
    "                answer = num1 + answer\n",
    "                break\n",
    "            temp = int(num1[-1]) + carry\n",
    "        \n",
    "        answer = str(temp % 10) + answer\n",
    "        carry = int(temp / 10)\n",
    "        num1 = num1[:-1]\n",
    "        num2 = num2[:-1]\n",
    "    \n",
    "    return answer"
   ]
  },
  {
   "cell_type": "code",
   "execution_count": 2,
   "id": "77fb7bdf",
   "metadata": {},
   "outputs": [],
   "source": [
    "# Input two numbers as strings\n",
    "number1 = input()\n",
    "number2 = input()\n",
    "\n",
    "# Remove spaces from input numbers\n",
    "number1 = number1.replace(\" \", \"\")\n",
    "number2 = number2.replace(\" \", \"\")"
   ]
  },
  {
   "cell_type": "code",
   "execution_count": 179,
   "id": "f99a6202",
   "metadata": {},
   "outputs": [
    {
     "name": "stdout",
     "output_type": "stream",
     "text": [
      "Boro joloo :)\n"
     ]
    }
   ],
   "source": [
    "SumResult = 1\n",
    "\n",
    "# Iterate through rotations of number1\n",
    "for i in range(len(number1) + 1):\n",
    "    number1Rotated = cycle(number1, -i)\n",
    "    \n",
    "    # Iterate through rotations of number2\n",
    "    for j in range(len(number2) + 1):\n",
    "        number2Rotated = cycle(number2, j)\n",
    "        \n",
    "        # Calculate the sum of the first three digits from the rotated numbers\n",
    "        Sum = big_add(number1Rotated[1:4], number2Rotated[1:4])[1:]\n",
    "        SumResult = int(Sum)\n",
    "        \n",
    "        # Check if the sum is divisible by 6\n",
    "        if int(Sum) % 6 == 0:\n",
    "            print('Boro joloo :)')\n",
    "            break\n",
    "    \n",
    "    # If the sum is not divisible by 6, print \"Gir oftadi :(\"\n",
    "    if SumResult % 6 != 0:\n",
    "        print('Gir oftadi :(')\n",
    "    \n",
    "    break  # Exit the loop after the first iteration"
   ]
  }
 ],
 "metadata": {
  "kernelspec": {
   "display_name": "Python 3 (ipykernel)",
   "language": "python",
   "name": "python3"
  },
  "language_info": {
   "codemirror_mode": {
    "name": "ipython",
    "version": 3
   },
   "file_extension": ".py",
   "mimetype": "text/x-python",
   "name": "python",
   "nbconvert_exporter": "python",
   "pygments_lexer": "ipython3",
   "version": "3.9.7"
  }
 },
 "nbformat": 4,
 "nbformat_minor": 5
}
