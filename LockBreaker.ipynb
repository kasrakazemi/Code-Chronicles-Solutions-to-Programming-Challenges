{
 "cells": [
  {
   "cell_type": "code",
   "execution_count": 128,
   "id": "55884376",
   "metadata": {},
   "outputs": [],
   "source": [
    "import collections\n",
    "\n",
    "def cycle(s, n):\n",
    "    d = collections.deque(s)\n",
    "    d.rotate(n)\n",
    "    return \"\".join(d)\n",
    "\n",
    "number= '1234'\n",
    "\n",
    "def big_add(num1,num2):\n",
    "    answer= \"\"\n",
    "    carry = 0 \n",
    "    while (num1 !=\"\")or (num1 !=\"\") or (carry !=0):\n",
    "        if (num1 !=\"\") and (num2 != \"\"):\n",
    "            temp= int(num1[-1])+ int(num2[-1])+ carry\n",
    "        if (num1==\"\")and (num2==\"\"):\n",
    "            temp= carry\n",
    "        if (num1 ==\"\") and (num2 !=\"\"):\n",
    "            if carry ==0:\n",
    "                answer = num2+answer\n",
    "                break\n",
    "            temp = int(num2[-1])+ carry\n",
    "        if (num1 !=\"\")and (num2 ==\"\"):\n",
    "            if carry ==0:\n",
    "                answer= num1+ answer\n",
    "                break\n",
    "            temp= int(num1[-1])+ carry\n",
    "        answer= str(temp%10)+answer\n",
    "        carry= int(temp/10)\n",
    "        num1 = num1[:-1]\n",
    "        num2 = num2[:-1]\n",
    "    return (answer)"
   ]
  },
  {
   "cell_type": "code",
   "execution_count": 178,
   "id": "77fb7bdf",
   "metadata": {},
   "outputs": [
    {
     "name": "stdout",
     "output_type": "stream",
     "text": [
      "1 8 9 7 2\n",
      "3 4 5 0 6\n"
     ]
    }
   ],
   "source": [
    "number1= (input())\n",
    "number2 = (input())\n",
    "number1=number1.replace(\" \",'')\n",
    "number2=number2.replace(\" \",'')\n"
   ]
  },
  {
   "cell_type": "code",
   "execution_count": 179,
   "id": "f99a6202",
   "metadata": {},
   "outputs": [
    {
     "name": "stdout",
     "output_type": "stream",
     "text": [
      "Boro joloo :)\n"
     ]
    }
   ],
   "source": [
    "SumResult= 1\n",
    "for i in range (len(number1)+1):\n",
    "    number1Rotaded= cycle(number1,-i)\n",
    "  \n",
    "    for j in range (len(number)+1):\n",
    "        number2Rotaded= cycle(number2,j)\n",
    "        Sum = big_add(number1Rotaded[1:4],number2Rotaded[1:4])[1:]\n",
    "        SumResult = int(Sum)\n",
    "        #print(SumResult)\n",
    "        if int(Sum)%6==0:\n",
    "            print('Boro joloo :)')\n",
    "            break\n",
    "#         if SumResult%6!=0:\n",
    "#             print('Gir oftadi :(')\n",
    "#             break\n",
    "\n",
    "    if SumResult%6!=0:\n",
    "        print('Gir oftadi :(')\n",
    "        \n",
    "    break\n",
    "\n",
    "         "
   ]
  },
  {
   "cell_type": "code",
   "execution_count": null,
   "id": "67064482",
   "metadata": {},
   "outputs": [],
   "source": []
  },
  {
   "cell_type": "code",
   "execution_count": null,
   "id": "30e6ffcf",
   "metadata": {},
   "outputs": [],
   "source": []
  },
  {
   "cell_type": "code",
   "execution_count": null,
   "id": "204bfc23",
   "metadata": {},
   "outputs": [],
   "source": []
  }
 ],
 "metadata": {
  "kernelspec": {
   "display_name": "Python 3 (ipykernel)",
   "language": "python",
   "name": "python3"
  },
  "language_info": {
   "codemirror_mode": {
    "name": "ipython",
    "version": 3
   },
   "file_extension": ".py",
   "mimetype": "text/x-python",
   "name": "python",
   "nbconvert_exporter": "python",
   "pygments_lexer": "ipython3",
   "version": "3.8.12"
  }
 },
 "nbformat": 4,
 "nbformat_minor": 5
}
