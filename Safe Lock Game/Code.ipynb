{
 "cells": [
  {
   "cell_type": "code",
   "execution_count": 5,
   "metadata": {},
   "outputs": [],
   "source": [
    "# Define the wheel and password\n",
    "whell = \"RTIGFIPR\"\n",
    "password = \"GFI\""
   ]
  },
  {
   "cell_type": "code",
   "execution_count": 6,
   "metadata": {},
   "outputs": [],
   "source": [
    "# Function to find all occurrences of a character in the wheel\n",
    "def find_letters(character):\n",
    "    output_list = []\n",
    "    for index, item in enumerate(whell):\n",
    "        if character == item:\n",
    "            output_list.append([index, item])\n",
    "\n",
    "    return output_list\n",
    "\n",
    "\n",
    "# Function to find the shortest distance from the pointer to a character\n",
    "def find_distance(pointer, letters):\n",
    "    minimums = []\n",
    "\n",
    "    for i in letters:\n",
    "        start_point = pointer\n",
    "        end_point = i[0]\n",
    "        clockwise = (end_point-start_point) % len(whell)\n",
    "        anti_clockwise = (start_point-end_point) % len(whell)\n",
    "        minimums.append([i[0], min(clockwise, anti_clockwise)])\n",
    "\n",
    "    output_list = min(minimums, key=lambda x: x[1])\n",
    "\n",
    "    return output_list[0], output_list[1]\n"
   ]
  },
  {
   "cell_type": "code",
   "execution_count": 7,
   "metadata": {},
   "outputs": [
    {
     "name": "stdout",
     "output_type": "stream",
     "text": [
      "Total Duration:  8 s\n"
     ]
    }
   ],
   "source": [
    "pointer = 0  # Initial pointer position\n",
    "total_rotations = 0  # Total rotations needed to reach the characters\n",
    "total_time = 0  # Total time taken to reach the characters\n",
    "\n",
    "# Iterate through each character in the password\n",
    "for i in (password):\n",
    "    letters = find_letters(i)\n",
    "    pointer, rotations = find_distance(pointer, letters)\n",
    "    total_rotations += rotations\n",
    "    total_time += 1\n",
    "\n",
    "# Print the total duration (time + rotations) to reach all password characters\n",
    "print('Total Duration: ', total_time + total_rotations, 's')"
   ]
  }
 ],
 "metadata": {
  "kernelspec": {
   "display_name": "base",
   "language": "python",
   "name": "python3"
  },
  "language_info": {
   "codemirror_mode": {
    "name": "ipython",
    "version": 3
   },
   "file_extension": ".py",
   "mimetype": "text/x-python",
   "name": "python",
   "nbconvert_exporter": "python",
   "pygments_lexer": "ipython3",
   "version": "3.9.7"
  },
  "orig_nbformat": 4
 },
 "nbformat": 4,
 "nbformat_minor": 2
}
