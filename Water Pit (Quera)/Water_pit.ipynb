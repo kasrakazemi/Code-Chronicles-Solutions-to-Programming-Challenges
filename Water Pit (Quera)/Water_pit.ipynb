{
 "cells": [
  {
   "cell_type": "code",
   "execution_count": 1,
   "metadata": {},
   "outputs": [],
   "source": [
    "# water columns height\n",
    "height = [5, 2, 1, 3, 1, 4]\n",
    "# total trapped water in the beginning\n",
    "total_water = 0"
   ]
  },
  {
   "cell_type": "code",
   "execution_count": 2,
   "metadata": {},
   "outputs": [],
   "source": [
    "# Loop through each column from the second column to the second-to-last column.\n",
    "for column in range(1, len(height) - 1):\n",
    "    # Find the maximum height to the left of the current column.\n",
    "    max_left = max(height[0:column])\n",
    "\n",
    "    # Find the maximum height to the right of the current column.\n",
    "    max_right = max(height[column + 1:])\n",
    "\n",
    "    # Calculate the effective height of the current column (minimum of max_left and max_right).\n",
    "    eff_height = min(max_left, max_right)\n",
    "\n",
    "    # Calculate the amount of water that can be trapped in the current column.\n",
    "    water_column = eff_height - height[column]\n",
    "\n",
    "    # Ensure water_column is greater than 0 before adding to total_water.\n",
    "    if water_column > 0:\n",
    "        total_water += water_column"
   ]
  },
  {
   "cell_type": "code",
   "execution_count": 3,
   "metadata": {},
   "outputs": [
    {
     "name": "stdout",
     "output_type": "stream",
     "text": [
      "Total trapped water: 9\n"
     ]
    }
   ],
   "source": [
    "# Print the total amount of trapped water.\n",
    "print(\"Total trapped water:\", total_water)"
   ]
  }
 ],
 "metadata": {
  "kernelspec": {
   "display_name": "base",
   "language": "python",
   "name": "python3"
  },
  "language_info": {
   "codemirror_mode": {
    "name": "ipython",
    "version": 3
   },
   "file_extension": ".py",
   "mimetype": "text/x-python",
   "name": "python",
   "nbconvert_exporter": "python",
   "pygments_lexer": "ipython3",
   "version": "3.9.7"
  },
  "orig_nbformat": 4
 },
 "nbformat": 4,
 "nbformat_minor": 2
}
